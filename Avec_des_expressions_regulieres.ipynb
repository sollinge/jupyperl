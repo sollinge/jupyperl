{
 "cells": [
  {
   "cell_type": "markdown",
   "metadata": {},
   "source": [
    "# UE 304 EC2 Traitement de Corpus : Avec des expressions régulières\n",
    "\n",
    "Bienvenue dans le Notebook sur l'introduction des expressions régulières dans les scripts Perl.\n",
    "\n",
    "Maintenant que vous avez découvert les expressions régulières, vous allez vous exercer à en écrire. Vous commencerez par revenir sur la fonction de substitution découverte dans le précédent TP, avant d'apprendre à écrire une expression conditionnelle pour faire des recherches complexes dans des fichiers.\n",
    "\n",
    "Une cellule de code vide est disponible tout en bas de ce notebook, vous pouvez vous en servir comme d'un bac à sable, pour faire des essais en dehors des exercices proposés au cours du TP.\n",
    "\n",
    "## Substitution & expressions régulières\n",
    "\n",
    "Nous avons vu que la fonction de **substitution** permet de remplacer une ou plusieurs occurrences d'une **sous-chaîne de caractères** par une nouvelle sous-chaîne dans une chaîne de caractères donnée.\n",
    "\n",
    "Nous avons utilisé cette fonction avec la syntaxe : \n",
    "\n",
    "**s/sous-chaîne à remplacer/sous-chaîne de remplacement/options**\n",
    "\n",
    "Il est également possible de l'utiliser avec la syntaxe suivante :\n",
    "\n",
    "**s/motif à remplacer/sous-chaîne de remplacement/options**\n",
    "\n",
    "Et dans ce cas précis, le **motif à remplacer** va être écrit à l'aide d'une expression régulière.\n",
    "\n",
    "Voyez ainsi, dans la cellule ci-dessous, une instruction de substitution équivalente à l'instruction \n",
    "`$enonce =~ s/je/il/ig;` que nous avons vu lors du dernier TP, mais où  l'expression régulière `/[Jj][eE]/` est préférée à l'usage de l'option **i**.\n",
    "\n",
    "Exécutez la cellule pour vérifier le résultat obtenu."
   ]
  },
  {
   "cell_type": "code",
   "execution_count": null,
   "metadata": {},
   "outputs": [],
   "source": [
    "##Je crée la variable $enonce et je lui assigne une valeur\n",
    "my $enonce = \"Je mange une pomme, bien que je n'aime pas beaucoup ça. Je préfère les poires.\";\n",
    "##Je remplace Je par Il\n",
    "$enonce =~ s/[Jj][eE]/il/g;\n",
    "##J'affiche la nouvelle valeur de $enonce\n",
    "print $enonce;"
   ]
  },
  {
   "cell_type": "markdown",
   "metadata": {},
   "source": [
    "## Exercices D - transformation de format\n",
    "\n",
    "Pour vous entraîner à utiliser les substitutions avec et sans expressions régulières, je vous ai préparé un petit fichier : *extrait_gramCodes_RLF.txt*.\n",
    "\n",
    "Il s'agit d'une extrait du Réseau Lexical du Français (RL-fr), un lexique du français en cours de constitution à l'ATILF.\n",
    "\n",
    "Plus précisément, ce fichier contient les caractéristiques grammaticales de quelques entrées du RL-fr.\n",
    "\n",
    "Il ressemble à ça :\n",
    "\n",
    "```\n",
    "\"ls:fr:node:26179\"\t\"\"\t\"\"\t\"ls:fr:gc:20\"\t\"\"\t\"\"\t\"(ls:fr:gc:28)\"\t\"(())\"\n",
    "\"ls:fr:node:26180\"\t\"\"\t\"\"\t\"ls:fr:gc:23\"\t\"\"\t\"\"\t\"\"\t\"\"\n",
    "\"ls:fr:node:26181\"\t\"\"\t\"\"\t\"ls:fr:gc:23\"\t\"\"\t\"\"\t\"(ls:fr:gc:125)\"\t\"(())\"\n",
    "```\n",
    "Sur chaque ligne, il y a huit champs entourés par des guillemets doubles droits, séparés par des tabulations.\n",
    "\n",
    "La série d'exercices ci-dessous vous amène à enrichir petit à petit un script qui transforme ce format peu lisible en quelque chose d'un peu plus lisible, comme ça :\n",
    "\n",
    "```\n",
    "https://spiderlex.atilf.fr/fr/id/26179 : Nom commun\n",
    "https://spiderlex.atilf.fr/fr/id/26180 : Verbe\n",
    "https://spiderlex.atilf.fr/fr/id/26181 : Verbe\n",
    "```\n",
    "\n",
    "### Exercice D-1 - Des parties du discours lisibles\n",
    "\n",
    "Dans ce premier exercice, vous allez remplacer les codes qui se trouvent dans la 4e colonne par les noms de partie du discours qui se cachent derrière.\n",
    "\n",
    "Voici la liste des correspondances dont vous avez besoin:\n",
    "\n",
    "ls:fr:gc:19  Adjectif<br/>\n",
    "ls:fr:gc:20  Nom commun<br/>\n",
    "ls:fr:gc:23  Verbe<br/>\n",
    "ls:fr:gc:82  Interjection<br/>\n",
    "\n",
    "Dans ce premier exercice, vous n'avez pas besoin d'expressions régulières.\n",
    "Il va vous permettre de construire le squelette de votre script."
   ]
  },
  {
   "cell_type": "code",
   "execution_count": null,
   "metadata": {},
   "outputs": [],
   "source": [
    "##J'ouvre le fichier extrait_gramCodes_RLF.txt\n",
    "\n",
    "##Tant qu'il reste des lignes à lire dans le fichier\n",
    "\n",
    "    #Je remplace le code \"ls:fr:gc:19\" par \"Adjectif\"\n",
    "    #Je remplace le code \"ls:fr:gc:20\" par \"Nom commun\"\n",
    "    #Je remplace le code \"ls:fr:gc:23\" par \"Verbe\"\n",
    "    #Je remplace le code \"ls:fr:gc:82\" par \"Interjection\"\n",
    "    \n",
    "    ##J'affiche la ligne\n"
   ]
  },
  {
   "cell_type": "markdown",
   "metadata": {},
   "source": [
    "Remarquez au passage que si votre script ne trouve pas le motif qu'il souhaite remplacer par autre chose sur une ligne, cela ne lui pose aucun problème. L'instruction est simplement sans effet.\n",
    "\n",
    "### Exercice D-2 - Changer les codes en URLs\n",
    "\n",
    "Dans ce deuxième exercice, vous allez remplacer les codes qui se trouvent dans la 1ère colonne par des URLs.\n",
    "\n",
    "Après l'exécution de la prochaine cellule, la première ligne qui s'affiche ne devra donc plus ressembler à ça :\n",
    "\n",
    "```\n",
    "\"ls:fr:node:26179\"\t\"\"\t\"\"\t\"Nom commun\"\t\"\"\t\"\"\t\"(ls:fr:gc:28)\"\t\"(())\"\n",
    "```\n",
    "\n",
    "mais à ça :\n",
    "\n",
    "```\n",
    "\"https://spiderlex.atilf.fr/fr/id/26179\"\t\"\"\t\"\"\t\"Nom commun\"\t\"\"\t\"\"\t\"(ls:fr:gc:28)\"\t\"(())\"\n",
    "```\n",
    "\n",
    "Vous remarquez que la fin de l'URL est identique à la fin du code qui se trouvait dans la cellule auparavant.\n",
    "\n",
    "Recopiez le script que vous avez écrit dans la cellule précédente et complétez-le pour qu'il opère cette nouvelle transformation.\n",
    "\n",
    "Ici non plus, vous n'avez pas besoin d'expressions régulières."
   ]
  },
  {
   "cell_type": "code",
   "execution_count": null,
   "metadata": {},
   "outputs": [],
   "source": []
  },
  {
   "cell_type": "markdown",
   "metadata": {},
   "source": [
    "### Exercice D-3 - Insérer les deux points\n",
    "\n",
    "Dans ce troisème exercice, vous allez remplacer les guillemets et tabulations qui se trouvent entre la 1ère et la quatrième colonne par un signe deux points, précédé et suivi d'une espace.\n",
    "\n",
    "Après l'exécution de la prochaine cellule, la première ligne qui s'affiche ne devra donc plus ressembler à ça :\n",
    "\n",
    "```\n",
    "\"https://spiderlex.atilf.fr/fr/id/26179\"\t\"\"\t\"\"\t\"Nom commun\"\t\"\"\t\"\"\t\"(ls:fr:gc:28)\"\t\"(())\"\n",
    "```\n",
    "\n",
    "mais à ça :\n",
    "\n",
    "```\n",
    "\"https://spiderlex.atilf.fr/fr/id/26179 : Nom commun\"\t\"\"\t\"\"\t\"(ls:fr:gc:28)\"\t\"(())\"\n",
    "```\n",
    "\n",
    "Attention, vous ne devez pas modifier la fin de la ligne.\n",
    "\n",
    "Recopiez le script que vous avez écrit dans la cellule précédente et complétez-le pour qu'il opère cette nouvelle transformation.\n",
    "\n",
    "Ici, vous devez utiliser une expression régulière."
   ]
  },
  {
   "cell_type": "code",
   "execution_count": null,
   "metadata": {},
   "outputs": [],
   "source": []
  },
  {
   "cell_type": "markdown",
   "metadata": {},
   "source": [
    "### Exercice D-4 - Un peu de ménage\n",
    "\n",
    "Voilà, vous avez quasiment atteint le format souhaité.\n",
    "Dans ce quatrième exercice, vous allez supprimer tout ce qui reste comme caractères parasites pour obtenir le format final.\n",
    "\n",
    "En effet, la fonction de substitution peut nous permettre de supprimer des sous-chaînes de caractères : il suffit de remplacer le motif souhaité par rien.\n",
    "\n",
    "Autrement dit, écrire une instruction de susbstitution qui suit cette syntaxe :\n",
    "\n",
    "**s/motif à remplacer//options**\n",
    "\n",
    "Après l'exécution de la prochaine cellule, la première ligne ne devra plus ressembler à ça :\n",
    "\n",
    "```\n",
    "\"https://spiderlex.atilf.fr/fr/id/26179 : Nom commun\"\t\"\"\t\"\"\t\"(ls:fr:gc:28)\"\t\"(())\"\n",
    "```\n",
    "\n",
    "mais à ça :\n",
    "\n",
    "```\n",
    "https://spiderlex.atilf.fr/fr/id/26179 : Nom commun\n",
    "```\n",
    "\n",
    "Vous allez donc devoir opérer en deux temps :\n",
    "* supprimer les guillemets doubles droits qui se trouvent en début de ligne (ou début de saisie).\n",
    "* supprimer toute la fin de ligne (ou fin de saisie) à partir des guillemets droits.\n",
    "\n",
    "Recopiez le script que vous avez écrit dans la cellule précédente et complétez-le pour qu'il opère cette nouvelle transformation.\n",
    "\n",
    "Ici, vous devez utiliser des expressions régulières."
   ]
  },
  {
   "cell_type": "code",
   "execution_count": null,
   "metadata": {},
   "outputs": [],
   "source": []
  },
  {
   "cell_type": "markdown",
   "metadata": {},
   "source": [
    "Félicitations ! Vous avez réussi à transformez le format du fichier *extrait_gramCodes_RLF.txt*.\n",
    "Et comme nous sommes dans un notebook, vous pouvez désormais cliquer sur les URLs pour découvrir les unités lexicales correspondantes dans le navigateur Spiderlex.\n",
    "\n",
    "## Expressions conditionnelles\n",
    "\n",
    "Pour pouvoir aller un peu plus loin dans l'exploration de fichiers à l'aide d'expressions régulières, nous avons besoin d'enrichir encore un peu votre vocabulaire Perl.\n",
    "\n",
    "Depuis que nous manipulons des fichiers, vous avez pu voir qu'il est possible, en Perl, de regrouper un ensemble d'instructions entre accolades et de dire à Perl de ne suivre ces instructions QUE SI une condition est VRAIE.\n",
    "\n",
    "Dans le cas de la boucle while et de la lecture d'un fichier, les instructions ne sont suivies **QUE S'il EST VRAI que je peux créer une nouvelle variable à laquelle j'assigne le contenu de la ligne courante du fichier IN**.\n",
    "\n",
    "Nous avons vu très rapidement, au cours du TP d'introduction, qu'il était possible d'écrire des conditions sous une autre forme.\n",
    "\n",
    "Je recopie dans la cellule ci-dessous l'exemple que nous avons vu :"
   ]
  },
  {
   "cell_type": "code",
   "execution_count": null,
   "metadata": {},
   "outputs": [],
   "source": [
    "if (5+2 == 7)\n",
    "{\n",
    "    print \"5+2=7\";\n",
    "}"
   ]
  },
  {
   "cell_type": "markdown",
   "metadata": {},
   "source": [
    "J'avais alors traduit ces quelques lignes de la manière suivante :\n",
    "\n",
    "* SI **il est vrai que** 5+2 vaut 7\n",
    "    * ALORS affiche à l'écran la chaîne de caractères \"5+2=7\"\n",
    "    \n",
    "Vous voyez dans cet exemple que la structure du bloc d'instructions conditionnelles est proche de la structure d'une boucle while :\n",
    "\n",
    "**if (CONDITION)**\n",
    "\n",
    "**{**\n",
    "\n",
    "   **INSTRUCTIONS**\n",
    "    \n",
    "**}**\n",
    "\n",
    "La différence entre les deux réside dans l'utilisation du mot-clef **if** en lieu et place de **while**. Tandis qu'avec **while** l'ensemble d'instructions sera répété TANT QUE la condition est VRAIE; avec **if** l'ensemble d'instructions n'est interprété qu'**une seule fois**.\n",
    "\n",
    "### Expressions conditionnelles et REGEXP\n",
    "\n",
    "Nous avons vu deux façons d'exprimer une condition depuis le début du TP.\n",
    "\n",
    "Avec l'opérateur de comparaison **==** et avec l'opérateur d'assignation **=** :\n",
    "\n",
    "* SI **il est vrai que** 5+2 vaut 7 : `if (5+2 == 7)`;\n",
    "* TANT QU'**il est vrai qu'** il reste une ligne dans le fichier à assigner à une variable : `while (my $ligne = <IN>)`\n",
    "\n",
    "Voyons maintenant comment exprimer une condition qui implique une motif et une chaîne de caractères.\n",
    "\n",
    "On utilise pour ça le même opérateur **=~** que pour la substitution et la translitération.\n",
    "\n",
    "* SI **il est vrai que** la chaîne `$chaine` contient le motif `/motif/` s'écrira : `if ($chaine =~ /motif/)`\n",
    "\n",
    "Regardez le contenu de la cellule ci-dessous et exécutez-la pour observer le fonctionnement d'une telle condition."
   ]
  },
  {
   "cell_type": "code",
   "execution_count": null,
   "metadata": {},
   "outputs": [],
   "source": [
    "##Je crée une variable $chaine et je lui assigne la valeur \"hirondelle\"\n",
    "my $chaine = \"hirondelle\";\n",
    "\n",
    "##S'il est vrai que la variable $chaine débute par un h, alors\n",
    "if ($chaine =~/^h/)\n",
    "{\n",
    "    ##afficher la valeur de $chaine et \"débute par un h\"\n",
    "    print $chaine.\" débute par un h\";\n",
    "}"
   ]
  },
  {
   "cell_type": "markdown",
   "metadata": {},
   "source": [
    "Il est aussi possible de tester qu'une condition qui implique une chaîne de caractère et un motif n'est pas remplie, en remplaçant l'opérateur **=~** par l'opérateur **!~**.\n",
    "\n",
    "* SI **il est vrai que** la chaîne `$chaine` ne contient pas le motif `/motif/` s'écrira : `if ($chaine !~ /motif/)`\n",
    "\n",
    "Regardez le contenu de la cellule ci-dessous et exécutez-la pour observer le fonctionnement de ce nouvel opérateur."
   ]
  },
  {
   "cell_type": "code",
   "execution_count": null,
   "metadata": {},
   "outputs": [],
   "source": [
    "##Je crée une variable $chaine et je lui assigne la valeur \"mésange\"\n",
    "my $chaine = \"mésange\";\n",
    "\n",
    "##S'il est faux que la variable $chaine débute par un h, alors\n",
    "if ($chaine !~/^h/)\n",
    "{\n",
    "    ##afficher la valeur de $chaine et \"débute par un h\"\n",
    "    print $chaine.\" ne débute pas par un h\";\n",
    "}"
   ]
  },
  {
   "cell_type": "markdown",
   "metadata": {},
   "source": [
    "## Exercices E - Première exploration de corpus\n",
    "\n",
    "Pour vous entraîner à utiliser des expressions conditionnelles avec des expressions régulières, je vous ai préparé un autre fichier : *extrait_BELRLFR.txt*.\n",
    "\n",
    "Il s'agit d'une extrait du corpus BEL-RL-fr, qui contient l'ensemble des citations utilisées comme exemples lexicographiques dans le Réseau Lexical du Français (RL-fr).\n",
    "\n",
    "Dans la version que je vous ai préparé, j'ai utilisé un instrument (TreeTagger) pour segmenter les citations de façon à avoir un mot par ligne et pour obtenir la partie du discours et le lemme de chaque mot. Comme cela a été fait automatiquement, il est possible qu'il y ait quelques erreurs.\n",
    "\n",
    "Le fichier ressemble à ça :\n",
    "\n",
    "```\n",
    "Âgé\tADJ\tâgé\n",
    "de\tPRP\tde\n",
    "85\tNUM\t@card@\n",
    "ans\tNOM\tan\n",
    ",\tPUN\t,\n",
    "```\n",
    "\n",
    "Sur chaque ligne, il y a trois champs, séparés par des tabulations. Le premier champ contient la forme telle qu'elle se trouve dans le corpus, le deuxième champ contient un code qui correspond à la partie du discours et le troisième champ contient le lemme. Si la forme est un nombre, comme ici *85*, la mention *@card@* fait office de lemme.\n",
    "\n",
    "Vous trouverez la liste exhaustive des codes de parties du discours à cette adresse : https://www.cis.uni-muenchen.de/~schmid/tools/TreeTagger/data/french-tagset.html\n",
    "\n",
    "Pour les exercices qui suivent, je vous préciserai à chaque fois les codes dont vous avez besoin.\n",
    "\n",
    "### Exercice E-1 - Compter les phrases\n",
    "\n",
    "TreeTagger distingue deux types de signes de ponctuation :\n",
    "* ceux qui terminent une phrase : il leur associe le code **SENT**\n",
    "* les autres : il leur associe le code **PUN**\n",
    "\n",
    "En vous aidant de cette information, écrivez dans la cellule suivante un script qui compte le nombre de phrases que contient *extrait_BELRLFR.txt*."
   ]
  },
  {
   "cell_type": "code",
   "execution_count": null,
   "metadata": {},
   "outputs": [],
   "source": [
    "##J'ouvre le fichier extrait_BELRLFR.txt\n",
    "\n",
    "##Je crée un compteur de phrase que j'initialise à 0\n",
    "\n",
    "\n",
    "##Tant qu'il reste des lignes à lire dans le fichier\n",
    "\n",
    "    ##Si la ligne courante contient un code de fin de phrase\n",
    "\n",
    "        ##J'incrémente mon compteur\n",
    "\n",
    "\n",
    "##J'affiche une phrase qui dit combien il y a de phrases dans le fichier\n"
   ]
  },
  {
   "cell_type": "markdown",
   "metadata": {},
   "source": [
    "### Exercice E-2 - Qui sont ces mots qui débutent par une majuscule ?\n",
    "\n",
    "Maintenant que nous connaissons le nombre de phrases, allons jeter un œil à l'ensemble des mots de l'extrait de corpus qui débutent par une majuscule.\n",
    "\n",
    "Y en a-t-il autant que de phrases ? Et quelles sont les parties du discours que TreeTagger leur a associées ?\n",
    "\n",
    "Écrivez dans la cellule suivante un script qui affiche les mots qui débutent par une majuscule et qui compte combien ils sont.\n",
    "\n",
    "Étant donné la mémoire des variables entre cellules, vous pouvez même afficher une phrase qui contient à la fois le nombre de mots commençant par une majuscule et le nombre de phrases.\n",
    "Par exemple *le fichier extrait_BELRLFR.txt contient 24 mots commençant par une majuscule pour 24 phrases*."
   ]
  },
  {
   "cell_type": "code",
   "execution_count": null,
   "metadata": {},
   "outputs": [],
   "source": []
  },
  {
   "cell_type": "markdown",
   "metadata": {},
   "source": [
    "### Exercice E-3 - Comptons les pronoms\n",
    "\n",
    "On sait désormais qu'il y a quatre phrases qui débutent par un pronom personnel et une par un adjectif.\n",
    "\n",
    "Vous pouvez voir que le code qui correspond à pronom personnel s'écrit en deux morceaux : **PRO** pour pronom et **PER** pour spécifier qu'il s'agit d'une pronom personnel.\n",
    "\n",
    "Nous allons supposer que toutes les étiquettes de pronoms débutent par **PRO:**.\n",
    "\n",
    "Écrivez un script qui affichent toutes les lignes qui contiennent un pronom, qui compte le nombre de pronoms et parmi eux le nombre de pronoms personnels. "
   ]
  },
  {
   "cell_type": "code",
   "execution_count": null,
   "metadata": {},
   "outputs": [],
   "source": []
  },
  {
   "cell_type": "markdown",
   "metadata": {},
   "source": [
    "### Exercice E-4 - De quoi parle le corpus ?\n",
    "\n",
    "Pour avoir une idée du thème de notre corpus, ni les pronoms ni les mots débutant par une majuscule ne nous aident beaucoup.\n",
    "\n",
    "Nous allons maintenant nous intéresser aux catégories majeurs.\n",
    "\n",
    "Voici les codes correspondant aux adjectifs, aux adverbes, aux noms communs et aux verbes :\n",
    "\n",
    "```\n",
    "ADJ\tadjectif\n",
    "ADV\tadverbe\n",
    "NOM\tnom commun\n",
    "VER:cond\tverbe conditionel\n",
    "VER:futu\tverbe futur\n",
    "VER:impe\tverbe imperatif\n",
    "VER:impf\tverbe imparfait\n",
    "VER:infi\tverbe infinitif\n",
    "VER:pper\tverbe participe passé\n",
    "VER:ppre\tverbe participe présent\n",
    "VER:pres\tverbe present\n",
    "VER:simp\tverbe passé simple\n",
    "VER:subi\tverbe imparfait du subjonctif\n",
    "VER:subp\tverbe subjunctif present\n",
    "```\n",
    "\n",
    "Écrivez un script qui compte le nombre de lignes totales du fichier, qui comptent toutes les lignes qui contiennent l'une des catégories majeures et qui affichent ces dernières. "
   ]
  },
  {
   "cell_type": "code",
   "execution_count": null,
   "metadata": {},
   "outputs": [],
   "source": []
  },
  {
   "cell_type": "markdown",
   "metadata": {},
   "source": [
    "Qu'est-ce que vous auriez envie de faire pour rendre ce résultat plus lisible et pouvoir étudier plus facilement le thème du corpus ?"
   ]
  },
  {
   "cell_type": "code",
   "execution_count": 24,
   "metadata": {},
   "outputs": [
    {
     "name": "stdout",
     "output_type": "stream",
     "text": [
      "Je me mouche beaucoup; parce que je suis enrhumée."
     ]
    },
    {
     "data": {
      "text/plain": [
       "1"
      ]
     },
     "execution_count": 24,
     "metadata": {},
     "output_type": "execute_result"
    }
   ],
   "source": [
    "##Ceci est la cellule bac à sable\n",
    "my $enonce = \"Je me mouche beaucoup, parce que je suis enrhumée.\";\n",
    "##Je remplace toutes les occurrences de m par des b\n",
    "$enonce =~ tr/,/;/;\n",
    "\n",
    "print $enonce;"
   ]
  }
 ],
 "metadata": {
  "kernelspec": {
   "display_name": "IPerl 0.009",
   "language": "perl",
   "name": "iperl"
  },
  "language_info": {
   "file_extension": ".pl",
   "mimetype": "text/x-perl",
   "name": "perl",
   "version": "5.28.1"
  }
 },
 "nbformat": 4,
 "nbformat_minor": 4
}
