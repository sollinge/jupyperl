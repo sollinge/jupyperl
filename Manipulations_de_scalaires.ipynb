{
 "cells": [
  {
   "cell_type": "markdown",
   "metadata": {},
   "source": [
    "# UE 304 EC2 Traitement de Corpus : Manipulons des variables scalaires\n",
    "\n",
    "Bienvenue dans le Notebook sur la manipulation de variables scalaires.\n",
    "\n",
    "Dans ce TP, vous allez écrire davantage de code Perl.\n",
    "Vous allez découvrir quelques opérateurs qui permettent de manipuler des entiers et des chaînes de caractères, puis nous nous concentrerons sur les chaînes des caractères. Nous apprendrons également à ouvrir un fichier et à manipuler son contenu.\n",
    "\n",
    "Une cellule de code vide est disponible tout en bas de ce notebook, vous pouvez vous en servir comme d'un bac à sable, pour faire des essais en dehors des exercices proposés au cours du TP.\n",
    "\n",
    "## Quelques opérateurs de base\n",
    "\n",
    "Nous avons découvert la semaine dernière plusieurs opérateurs :\n",
    "\n",
    "* l'opérateur **+**, qui sert à additionner des entiers;\n",
    "* l'opérateur **=**, qui sert à assigner une valeur à une variable.\n",
    "\n",
    "Nous allons à présent enrichir notre vocabulaire en Perl à l'aide de quelques nouveaux opérateurs.\n",
    "\n",
    "### Opérations sur les entiers\n",
    "\n",
    "On peut réaliser en Perl, comme dans tous les langages de programmation, toutes les opérations que l'on peut réaliser avec une calculatrice.\n",
    "\n",
    "Dans le cadre de ce TP, nous nous intéressons principalement aux chaînes de caractères, c'est pourquoi nous n'introduirons que quelques opérations mathématiques.\n",
    "\n",
    "#### Soustraction\n",
    "\n",
    "Sans grande surprise, l'opérateur de soustraction est le caractère **-**.\n",
    "\n",
    "Quelle que soit la valeur que l'on assigne à la variable **$n1** dans la cellule suivante, le résultat de l'opération qui s'y trouve sera donc égal à 0.\n",
    "\n",
    "Exécutez la cellule plusieurs fois en modifiant la valeur de $n1 à chaque fois pour vous en assurer."
   ]
  },
  {
   "cell_type": "code",
   "execution_count": null,
   "metadata": {},
   "outputs": [],
   "source": [
    "##Je crée une variable n1\n",
    "my $n1;\n",
    "##J'assigne une valeur à cette variable\n",
    "$n1 = 34;\n",
    "##Je crée une variable résultat\n",
    "my $result;\n",
    "##Je soustrais la valeur de n1 à la variable n1\n",
    "$result = $n1 - $n1;\n",
    "##Je demande l'affichage du résultat\n",
    "print $result;"
   ]
  },
  {
   "cell_type": "markdown",
   "metadata": {},
   "source": [
    "#### Multiplication et répétition\n",
    "\n",
    "Et pour faire une multiplication, est-ce qu'on peut utiliser le caractère **x** ?\n",
    "\n",
    "Essayez donc dans la cellule suivante et voyons ce qui se passe...\n",
    "\n",
    "[Remarquez que dans cette cellule, j'utilise les variables \\\\$n1 et \\\\$result que j'ai créées précédemment.]\n"
   ]
  },
  {
   "cell_type": "code",
   "execution_count": null,
   "metadata": {},
   "outputs": [],
   "source": [
    " ##J'essaye de multiplier avec le caractère x\n",
    " $result = $n1 x 3;\n",
    " #Je demande l'affichage du résultat\n",
    " print $result;"
   ]
  },
  {
   "cell_type": "markdown",
   "metadata": {},
   "source": [
    "Mais qu'est-ce qui s'est passé ?\n",
    "\n",
    "Perl n'a pas du tout fait la multiplication que l'on souhaitait lui demander.\n",
    "\n",
    "À la place, il a répété trois fois la valeur de la variable $n1.\n",
    "\n",
    "En Perl, le caractère **x** est l'opérateur de **répétition**.\n",
    "\n",
    "L'opérateur de **multiplication**, lui, est le caractère **\\***.\n",
    "\n",
    "Dans la cellule ci-dessous, recopiez les instructions de la cellule précédente, mais en remplaçant **x** par **\\***.\n",
    "\n",
    "Exécutez la cellule pour voir le résultat."
   ]
  },
  {
   "cell_type": "code",
   "execution_count": null,
   "metadata": {},
   "outputs": [],
   "source": []
  },
  {
   "cell_type": "markdown",
   "metadata": {},
   "source": [
    "Cette fois, c'est bon, vous avez réalisé une multiplication.\n",
    "\n",
    "#### Division\n",
    "\n",
    "Pour en finir avec les opérations élémentaires, l'opérateur de division, en Perl est le slash : **/**.\n",
    "\n",
    "Si vous avez complété et exécuté correctement toutes les cellules précédentes, la cellule suivante devrait donc afficher en sortie la valeur de la variable $n1."
   ]
  },
  {
   "cell_type": "code",
   "execution_count": null,
   "metadata": {},
   "outputs": [],
   "source": [
    "print $result/3;"
   ]
  },
  {
   "cell_type": "markdown",
   "metadata": {},
   "source": [
    "#### Auto-incrémentation et auto-décrémentation\n",
    "\n",
    "Quand on programme, bien souvent, on utilise les entiers pour faire des compteurs.\n",
    "\n",
    "Et quand on compte, on va de 1 en 1.\n",
    "\n",
    "Pour ça, on dit qu'on **incrémente** une variable quand on lui ajoute 1 et qu'on **décrémente** une variable lorsqu'on lui enlève 1.\n",
    "\n",
    "Comme ce sont des opérations que l'on fait très souvent, il existe des opérateurs spéciaux pour le faire.\n",
    "\n",
    "L'opérateur d'auto-incrémentation est **++**.\n",
    "\n",
    "Et l'opérateur d'auto-décrémentation est **--**.\n",
    "\n",
    "Exécutez la cellule suivante pour voir comment ces opérateurs fonctionnent."
   ]
  },
  {
   "cell_type": "code",
   "execution_count": null,
   "metadata": {},
   "outputs": [],
   "source": [
    "##Je crée un compteur\n",
    "my $compt;\n",
    "##Je compte de 0 à 3 en affichant la valeur du compteur à chaque fois\n",
    "$compt = 0;\n",
    "print $compt;\n",
    "##Je sépare chaque valeur par une tabulation\n",
    "print \"\\t\";\n",
    "$compt++;\n",
    "print $compt;\n",
    "print \"\\t\";\n",
    "$compt++;\n",
    "print $compt;\n",
    "print \"\\t\";\n",
    "$compt++;\n",
    "print $compt;\n",
    "##Je demande l'affichage d'un saut de ligne\n",
    "print \"\\n\";\n",
    "#Je compte de 3 à 0 en affichant la valeur du compteur à chaque fois\n",
    "print $compt;\n",
    "##Je sépare chaque valeur par une tabulation\n",
    "print \"\\t\";\n",
    "$compt--;\n",
    "print $compt;\n",
    "print \"\\t\";\n",
    "$compt--;\n",
    "print $compt;\n",
    "print \"\\t\";\n",
    "$compt--;\n",
    "print $compt;"
   ]
  },
  {
   "cell_type": "markdown",
   "metadata": {},
   "source": [
    "### Opération sur les chaînes de caractères : la concaténation\n",
    "\n",
    "Passons maintenant aux chaînes de caractères.\n",
    "\n",
    "Pour les manipuler, nous allons principalement utiliser des fonctions.\n",
    "\n",
    "Mais il existe un opérateur qui va nous être utile si l'on veut utiliser, à la suite l'une de l'autre, plusieurs variables scalaires qui contiennent des chaînes de caractères.\n",
    "\n",
    "Il s'agit de l'opérateur de **concaténation**. Concaténer deux chaînes de caractères, cela signifie les mettre bout à bout. L'opérateur qui permet de faire cela, c'est le point **.**.\n",
    "\n",
    "Regardez ce qui se passe, en exécutant la cellule suivante, si je demande à afficher successivement les deux variables **\\\\$adj** et **\\\\$ment** sans opérateur. "
   ]
  },
  {
   "cell_type": "code",
   "execution_count": null,
   "metadata": {},
   "outputs": [],
   "source": [
    "##Je déclare les variables $adj et $ment, en leur assignant une valeur\n",
    "my $adj = \"admirable\";\n",
    "my $ment = \"ment\";\n",
    "##Je demande l'affichage des deux variables pour écrire \"admirablement\"\n",
    "print $adj$ment;"
   ]
  },
  {
   "cell_type": "markdown",
   "metadata": {},
   "source": [
    "À la place d'*admirablement*, j'obtiens un message d'erreur. L'interpréteur Perl me précise que l'erreur se situe sur la 5e ligne de mon script.\n",
    "\n",
    "Ajoutez maintenant l'opérateur **.** entre les deux variables, pour obtenir **print \\\\$adj.$ment**, puis exécutez à nouveau la cellule.\n",
    "\n",
    "## Ouvrir un fichier et lire son contenu\n",
    "\n",
    "Depuis le début du TP, nous nous contentons de travailler avec des chaînes de caractères ou des entiers que j'ai saisis manuellement dans les cellules.\n",
    "\n",
    "Cependant, je vous ai annoncé dès le départ que Perl vous permettrez de manipuler de grandes quantités de données.\n",
    "\n",
    "Nous allons donc voir comment ouvrir un fichier et accéder à son contenu.\n",
    "\n",
    "Bien évidemment, dans notre environnement de travail, cela ne fonctionnera que si le fichier a préalablement été déposé dans votre espace Jupyter, soit par moi préalablement au cours, soit par vous, en utilisant le bouton Update.\n",
    "\n",
    "### Ouvrir un fichier\n",
    "\n",
    "Pour ouvrir les fichiers, nous allons utiliser la fonction **open**.\n",
    "\n",
    "Cette fonction attend trois arguments :\n",
    "\n",
    "* un **DESCRIPTEUR**\n",
    "   * vous pouvez lui donner le nom de votre choix, mais il doit être écrit à l'aide de lettres majuscules non accentuées et de chiffres.\n",
    "* une chaîne de caractères qui définit le **mode d'ouverture** du fichier et précise l'encodage de caractères du fichier à ouvrir (pour nous **utf8**):\n",
    "   * \"<:utf8\" signifie que l'on souhaite uniquement lire le contenu du fichier encodé en utf8.\n",
    "   * \">:utf8\" signifie que l'on souhaite uniquement écrire dans le fichier encodé en utf8. \n",
    "        * S'il n'existe aucun fichier avec le même nom, un nouveau fichier est créé.\n",
    "        * S'il existe déjà un fichier avec le même nom, ce fichier est effacé.\n",
    "   * \">>:utf8\" signifie que l'on souhaite écrire à la suite de ce qu'il y a déjà dans un fichier encodé en utf8.\n",
    "        * S'il n'existe aucun fichier avec le même nom, un nouveau fichier est créé.\n",
    "* une chaîne de caractères qui contient le **nom** du fichier à ouvrir.\n",
    "\n",
    "L'instruction pour ouvrir, en lecture seule, le fichier *texte.txt* et l'associer à un descripteur que je nomme IN s'écrira donc **open(IN, \"<:utf8\", \"texte.txt\");**\n",
    "\n",
    "Pour être informé avec précision des raisons d'un évenutel échec d'ouverture du fichier et stoper immédiatement le script dans une telle situation, on fait suivre la fonction **open** de la mention suivante : \n",
    "\n",
    "**or die \"Impossible d'ouvrir le fichier : \\\\$!\"**.\n",
    "\n",
    "Exécutez la cellule suivante pour ouvrir ainsi le fichier *texte.txt*.\n"
   ]
  },
  {
   "cell_type": "code",
   "execution_count": null,
   "metadata": {},
   "outputs": [],
   "source": [
    "##J'ouvre le fichier texte.txt\n",
    "open(IN,\"<:utf8\", \"texte.txt\") or die \"Impossible d'ouvrir le fichier : $!\";"
   ]
  },
  {
   "cell_type": "markdown",
   "metadata": {},
   "source": [
    "Le fichier est désormais disponible à travers le descripteur **IN**.\n",
    "\n",
    "Pour autant, nous ne pouvons pas en faire grand-chose pour l'instant.\n",
    "\n",
    "Exécutez la prochaine cellule pour essayer d'afficher le contenu du fichier."
   ]
  },
  {
   "cell_type": "code",
   "execution_count": null,
   "metadata": {},
   "outputs": [],
   "source": [
    "print IN;"
   ]
  },
  {
   "cell_type": "markdown",
   "metadata": {},
   "source": [
    "Perl ne retourne pas de message d'erreur, mais n'affiche pas le contenu souhaité.\n",
    "\n",
    "### Lire le contenu d'un fichier\n",
    "\n",
    "Pour cela, nous allons devoir parcourir le fichier, ligne à ligne, et indiquer que faire pour chacune de ces lignes.\n",
    "\n",
    "Et pour se faire, nous avons allons utiliser une **boucle while**.\n",
    "\n",
    "Nous verrons lors d'un prochain TP que d'autres solutions existent.\n",
    "\n",
    "#### Mais qu'est-ce que c'est, qu'une boucle while?\n",
    "\n",
    "Une **boucle while**, ou *boucle tant que*, est une structure de code qui va permettre de répéter un ensemble d'instructions TANT QU'une condition donnée est vraie.\n",
    "\n",
    "La boucle while s'écrit de la façon suivante :\n",
    "\n",
    "**while (CONDITION)**\n",
    "\n",
    "**{**\n",
    "\n",
    "   **INSTRUCTIONS**\n",
    "    \n",
    "**}**\n",
    "\n",
    "Si vous êtes sur un ordinateur Windows, les accolades sont accessibles à l'aide de deux combinaisons de touches : \n",
    "* *Alt Gr + 4*\n",
    "* *Alt Gr + +*\n",
    "\n",
    "Si vous êtes sur un ordinateur Mac, il est accessible à l'aide de la combinaison de touches:\n",
    "* *option + (*\n",
    "* *option + )*\n",
    "\n",
    "Nous reviendrons sur les conditions plus tard.\n",
    "\n",
    "Pour l'instant, dans l'utilisation qui nous intéresse, il existe une syntaxe spécifique pour écrire la condition **TANT QU'il reste des lignes à lire dans le fichier**. Elle s'écrit **my \\\\$variable = &lt;DESCRIPTEUR&gt;**, qu'on peut traduire par quelque chose comme *tant que je peux créer une nouvelle variable à laquelle j'assigne le contenu de la ligne courante du fichier IN*.\n",
    "\n",
    "Découvrez les lignes de code que j'ai écrites pour afficher l'ensemble des lignes du fichier *texte.txt* et exécutez la cellule pour vérifier qu'elles permettent bien de le faire."
   ]
  },
  {
   "cell_type": "code",
   "execution_count": null,
   "metadata": {},
   "outputs": [],
   "source": [
    "##Tant qu'il reste des lignes à lire dans le fichier\n",
    "while (my $ligne = <IN>)\n",
    "{\n",
    "    ##Je demande que la ligne soit affichée\n",
    "    print $ligne;\n",
    "}"
   ]
  },
  {
   "cell_type": "markdown",
   "metadata": {},
   "source": [
    "Vous remarquerez que vous ne pouvez parcourir qu'une seule fois un fichier avec une boucle while.\n",
    "\n",
    "La boucle a, en quelque sorte, épuisé le contenu du DESCRIPTEUR.\n",
    "\n",
    "Ainsi, si vous essayez d'exécuter une deuxième fois la cellule ci-dessus, le texte ne s'affichera plus en sortie.\n",
    "\n",
    "Si vous voulez l'afficher à nouveau, il faudra au préalable exécuter une nouvelle fois la cellule qui contient l'instruction **open**."
   ]
  },
  {
   "cell_type": "markdown",
   "metadata": {},
   "source": [
    "## Supprimer le saut de ligne à la fin d'une chaîne de caractères\n",
    "\n",
    "Si vous vous souvenez bien, nous avons vu la semaine dernière que le saut de ligne est un caractère spécial en Perl. Un caractère spécial qui s'écrit **\\n**.\n",
    "\n",
    "Vous n'y avez peut-être pas prêté attention, mais quand nous avons affiché le contenu du fichier **texte.txt**, les sauts de lignes se sont affichés également.\n",
    "\n",
    "Pour supprimer une fin de ligne avant de l'afficher, il existe une fonction : **chomp**, qui attend un seul argument, une chaîne de caractères.\n",
    "\n",
    "Regardez, dans la cellule ci-dessous, comment on utilise cette fonction et exécutez la cellule pour voir le résultat que l'on obtient."
   ]
  },
  {
   "cell_type": "code",
   "execution_count": null,
   "metadata": {},
   "outputs": [],
   "source": [
    "##J'ouvre le fichier texte.txt\n",
    "open(IN,\"<:utf8\", \"texte.txt\") or die \"Impossible d'ouvrir le fichier : $!\";\n",
    "\n",
    "##Tant qu'il reste des lignes à lire dans le fichier\n",
    "while (my $ligne = <IN>)\n",
    "{\n",
    "    chomp $ligne; #Je supprime le caractère \\n à la fin de la ligne\n",
    "    print $ligne; #J'affiche la ligne\n",
    "}"
   ]
  },
  {
   "cell_type": "markdown",
   "metadata": {},
   "source": [
    "## Exercices A - concaténation\n",
    "\n",
    "Nous savons à présent ouvrir un fichier, lire son contenu, réaliser quelques opérations sur les entiers, concaténer les chaînes de caractères et supprimer un caractère de saut de ligne.\n",
    "\n",
    "Voyons voir ce qu'on peut déjà faire avec ça.\n",
    "\n",
    "J'ai préparé pour vous deux fichiers, qui sont disponibles pour être ouverts sans que vous ayez à les charger.\n",
    "\n",
    "### A-1 - Formes fléchies d'adjectifs\n",
    "\n",
    "Le premier fichier s'appelle *adjectifs.txt*, il contient une liste d'adjectifs.\n",
    "Dans la cellule ci-dessous, écrivez un premier programme qui génère toutes les formes fléchies correspondant aux lexèmes contenus dans ce fichier.\n",
    "\n",
    "Le résultat devra avoir la forme suivante :\n",
    "\n",
    "bleu :<br/>\n",
    "Masc sg    bleu<br/>\n",
    "Fem sg     bleue<br/>\n",
    "Masc pl    bleus<br/>\n",
    "Fem pl     bleues<br/>\n"
   ]
  },
  {
   "cell_type": "code",
   "execution_count": null,
   "metadata": {},
   "outputs": [],
   "source": [
    "##J'ouvre le fichier adjectif.txt\n",
    "\n",
    "##Tant qu'il reste des lignes à lire dans le fichier\n",
    "\n",
    "\n",
    "   #Je supprime le caractère \\n à la fin de la ligne\n",
    "   \n",
    "   #Je crée une variable $lexeme et je lui assigne la valeur de la ligne\n",
    "   \n",
    "   #Je crée la variable $fs à laquelle j'assigne la valeur de $lexeme et je lui ajoute un \"e\"\n",
    "   \n",
    "   #Je crée la variable $mp à laquelle j'assigne la valeur de $lexeme et je lui ajoute un \"s\"\n",
    "   \n",
    "   #Je crée la variable $fp à laquelle j'assigne la valeur de $fs et je lui ajoute un \"s\"\n",
    "   \n",
    "   #Je crée la variable $result et je lui assigne la valeur de la chaîne de caractères que je veux afficher\n",
    "   \n",
    "   #Je demande l'affichage de $result\n",
    "   \n",
    "   "
   ]
  },
  {
   "cell_type": "markdown",
   "metadata": {},
   "source": [
    "\n",
    "Est-ce que votre script aurait fonctionné avec les adjectifs *frais* et *agréable* ?\n",
    "\n",
    "### A-2 - Formes fléchies de verbes\n",
    "\n",
    "Le deuxième fichier s'appelle *verbes.txt*, il contient une liste de radicaux de verbes.\n",
    "Dans la cellule ci-dessous, écrivez un deuxième programme qui génère toutes les formes fléchies correspondant aux présent de l'indicatif des verbes correspondant contenus dans ce fichier.\n",
    "\n",
    "Le résultat devra avoir la forme suivante :\n",
    "\n",
    "dans : danser<br/>\n",
    "je danse<br/>\n",
    "tu danses<br/>\n",
    "il/elle danse<br/>\n",
    "nous dansons<br/>\n",
    "vous dansez<br/>\n",
    "ils/elles dansent<br/>\n"
   ]
  },
  {
   "cell_type": "code",
   "execution_count": null,
   "metadata": {},
   "outputs": [],
   "source": [
    "##J'ouvre le fichier verbes.txt\n"
   ]
  },
  {
   "cell_type": "markdown",
   "metadata": {},
   "source": [
    "\n",
    "Est-ce que votre script aurait fonctionné avec les radicaux *appel* et *fini* ?\n",
    "\n",
    "## Modifier la casse\n",
    "\n",
    "Voyons à présent quelques fonctions supplémentaires pour manipuler des chaînes de caractères.\n",
    "\n",
    "En typographie, la **casse** est un casier où l'on range les caractères en plomb. Par extension de sens, c'est aussi le nom qu'on donne à l'alternance entre les formes majuscules et les formes minuscules des lettres. Pour Perl, les caractères **A** et **a** sont deux caractères distincts, à moins que, comme nous le verrons plus tard, nous lui demandions de ne pas faire attention à la casse.\n",
    "\n",
    "Pour le moment, voyons comment on peut, en un tour de main, modifier la casse de n'importe quelle chaîne de caractères.\n",
    "\n",
    "On dispose pour cela de quatre fonctions :\n",
    "\n",
    "* **lc** qui retourne une version en minuscules de la chaîne passée en argument;\n",
    "* **uc** qui retourne une version en majuscules de la chaîne passée en argument;\n",
    "* **lcfirst** qui change uniquement la casse de la première lettre de la chaîne et la passe en minuscules;\n",
    "* **ucfirst** qui change uniquement la casse de la première lettre de la chaîne et la passe en majuscules;\n",
    "\n",
    "Faites varier la fonction dans la cellule ci-dessous, en exécutant à chque variation, pour observer les différences de fonctionnement."
   ]
  },
  {
   "cell_type": "code",
   "execution_count": null,
   "metadata": {},
   "outputs": [],
   "source": [
    "## Je crée une variable $mot et je lui assigne une chaîne de caractère\n",
    "my $mot = \"ChauSSEtte\";\n",
    "$mot = lcfirst $mot;\n",
    "print $mot;\n"
   ]
  },
  {
   "cell_type": "markdown",
   "metadata": {},
   "source": [
    "## Mesurer la longueur d'une chaîne\n",
    "\n",
    "Si l'on veut connaître la taille d'une chaîne de caractères, on utilise la fonction **length** et on lui passe notre chaîne de caractères en argument.\n",
    "\n",
    "De la façon suivante : **length \\\\$chaine;**.\n",
    "\n",
    "### Exercices B - longueur\n",
    "\n",
    "#### B-1 longueur de chaînes\n",
    "\n",
    "Dans la cellule ci-dessous, repenez le script qui permet d'ouvrir le fichier *texte.txt*, mais au lieu d'afficher chaque ligne, afficher le nombre de caractères qu'elle contient.\n",
    "\n",
    "N'oubliez pas de commenter votre code."
   ]
  },
  {
   "cell_type": "code",
   "execution_count": null,
   "metadata": {},
   "outputs": [],
   "source": [
    "##Exercice B-1\n"
   ]
  },
  {
   "cell_type": "markdown",
   "metadata": {},
   "source": [
    "À quoi correpsondent les lignes qui ne comporte qu'un seul caractère ?\n",
    "\n",
    "#### B- 2 longueur de fichier\n",
    "\n",
    "Dans la cellule ci-dessous, reprenez le script que vous venez d'écrire et complétez-le de façon à ce qu'il affiche, après la boucle while, le nombre de lignes du fichier *texte.txt*.\n",
    "\n",
    "Pour cela, vous devez utiliser une variable compteur **$compt** et l'opérateur d'incrémentation que nous avons vu au début de ce TP.\n",
    "\n",
    "Pour distinguer ce nombre de lignes des nombres de caractères par ligne, écrivez une phrase complète, par exemple : \"Le fichier texte.txt contient 3 lignes\"."
   ]
  },
  {
   "cell_type": "code",
   "execution_count": null,
   "metadata": {},
   "outputs": [],
   "source": [
    "##Exercice B-2\n"
   ]
  },
  {
   "cell_type": "markdown",
   "metadata": {},
   "source": [
    "## Fonctions de remplacement\n",
    "\n",
    "En Perl, il existe des fonctions qui permettent de remplacer rapidement une partie de chaîne de caractères par autre chose.\n",
    "\n",
    "Ces fonctions s'écrivent d'une façon un peu particulière.\n",
    "\n",
    "Contrairement aux fonctions que l'on a vu jusqu'à présent, on ne les appelle pas à l'aide d'un nom de fonction et en leur passant des arguments.\n",
    "\n",
    "Pour les appeler, on utiliser un opérateur particulier : **=~**.\n",
    "\n",
    "Si vous êtes sur un ordinateur Windows, le caractère tilde **~** est accessible à l'aide de la combinaison de touches :\n",
    "\n",
    "    Alt Gr + 2\n",
    "\n",
    "Si vous êtes sur un ordinateur Mac, il est accessible à l'aide de la combinaison de touches:\n",
    "\n",
    "    option + n\n",
    "\n",
    "Regardons la première fonction de remplacement pour voir comment on utilise cet opérateur.\n",
    "\n",
    "### Translitération\n",
    "\n",
    "La première fonction de remplacement qui nous intéresse s'appelle la fonction de **translitération**.\n",
    "\n",
    "Elle permet de remplacer toutes les occurrences d'un caractère par un autre caractère dans une chaîne donnée.\n",
    "\n",
    "Regardez dans la cellule suivante comme je l'utilise pour remplacer toute les occurrences du caractère **m** par le caracrère **b** dans la chaîne de caractère \"Je me mouche beaucoup parce que je suis enrhumée.\"."
   ]
  },
  {
   "cell_type": "code",
   "execution_count": null,
   "metadata": {},
   "outputs": [],
   "source": [
    "##Je crée la variable $enonce et je lui assigne une valeur\n",
    "my $enonce = \"Je me mouche beaucoup parce que je suis enrhumée.\";\n",
    "##Je remplace toutes les occurrences de m par des b\n",
    "$enonce =~ tr/m/b/;\n",
    "##J'affiche la nouvelle valeur de $enonce\n",
    "print $enonce;"
   ]
  },
  {
   "cell_type": "markdown",
   "metadata": {},
   "source": [
    "À l'aide de l'opérateur **=~**, j'ai appliqué directement la translitération sur la variable $enonce.\n",
    "\n",
    "J'ai ensuite respecté la syntaxe suivante : **tr/caractère à remplacer/caractère de remplacement/**.\n",
    "\n",
    "Il est possible, avec la fonction de translitération, de remplacer plusieurs caractères par un même caractère.\n",
    "\n",
    "On entre alors la liste des caractères à remplacer entre les deux premiers slash, comme vous pouvez le voir et le tester dans la cellule suivante."
   ]
  },
  {
   "cell_type": "code",
   "execution_count": null,
   "metadata": {},
   "outputs": [],
   "source": [
    "##Je crée la variable $enonce et je lui assigne une valeur\n",
    "my $enonce = \"Je me mouche beaucoup parce que je suis enrhumée.\";\n",
    "##Je remplace toutes les occurrences de m par des b\n",
    "$enonce =~ tr/mmpq/b/;\n",
    "##J'affiche la nouvelle valeur de $enonce\n",
    "print $enonce;"
   ]
  },
  {
   "cell_type": "markdown",
   "metadata": {},
   "source": [
    "Il est également possible de remplacer plusieurs caractères par plusieurs caractères, deux à deux, en une seule instruction. \n",
    "\n",
    "Regardez le code de la cellule suivante et exécutez-le pour comprendre comment faire.\n",
    "\n",
    "Vous remarquerez, au passage, que la fonction **tr** est **sensible à la casse**. Cela signifie que si on lui demande de transformer une lettre minuscule, elle ne transformera pas la lettre majuscule correspondant."
   ]
  },
  {
   "cell_type": "code",
   "execution_count": null,
   "metadata": {},
   "outputs": [],
   "source": [
    "##Je crée la variable $enonce et je lui assigne une valeur\n",
    "my $enonce = \"Je me mouche beaucoup parce que je suis enrhumée.\";\n",
    "##Je remplace toutes les occurrences de m par des b\n",
    "$enonce =~ tr/mceaj/bkaAg/;\n",
    "##J'affiche la nouvelle valeur de $enonce\n",
    "print $enonce;"
   ]
  },
  {
   "cell_type": "markdown",
   "metadata": {},
   "source": [
    "### Substitution\n",
    "\n",
    "La deuxième fonction de remplacement qui nous intéresse s'appelle la fonction de **substitution**.\n",
    "\n",
    "Elle permet de remplacer une ou plusieurs occurrences d'une **sous-chaîne de caractères** par une nouvelle sous-chaîne dans une chaîne de caractères donnée.\n",
    "\n",
    "Sa syntaxe est proche de celle de la fonction de substitution, mais à la place de **tr**, on utilise **s** : \n",
    "\n",
    "**s/sous-chaîne à remplacer/sous-chaîne de remplacement/**\n",
    "\n",
    "Ainsi, vous pouvez tester dans la cellule ci-dessous le remplacement de *Je* par *Il* dans l'énoncé *Je mange une pomme*."
   ]
  },
  {
   "cell_type": "code",
   "execution_count": null,
   "metadata": {},
   "outputs": [],
   "source": [
    "##Je crée la variable $enonce et je lui assigne une valeur\n",
    "my $enonce = \"Je mange une pomme.\";\n",
    "##Je remplace Je par Il\n",
    "$enonce =~ s/Je/Il/;\n",
    "##J'affiche la nouvelle valeur de $enonce\n",
    "print $enonce;"
   ]
  },
  {
   "cell_type": "markdown",
   "metadata": {},
   "source": [
    "Cependant, à la différence de la fonction de translitération, la fonction de substitution, par défaut, ne remplace pas l'ensemble des occurrences de la sous-chaîne de caractères visée, mais seulement la première.\n",
    "\n",
    "Pour obtenir le remplacement de toutes les occurrences de la sous-chaîne, il faut utiliser une **option**, que l'on place après le dernier slash de l'instruction :\n",
    "\n",
    "**s/sous-chaîne à remplacer/sous-chaîne de remplacement/options**\n",
    "\n",
    "Deux **options** de la fonction substitution nous intéressent ici :\n",
    "\n",
    "* l'option **g** qui remplace toutes les occurrences de la sous-chaîne: **s///g**;\n",
    "* l'option **i** qui ignore la casse de la sous-chaîne pour réaliser la substitution: **s///i**.\n",
    "\n",
    "Ces deux options peuvent se cumuler. Ainsi `s/le/la/ig` permettra de remplacer toutes les occurrences de *le*, *Le*, *lE* et *LE* par *la*.\n",
    "\n",
    "Regardez le script de la prochaine cellule et modifiez-le de façon à ce que toutes les occurrences de *je* soient remplacées par *il*, y compris celles qui se trouvent en début de phrases.\n",
    "\n",
    "Procédez par étape (réalisez une modification, exécutez la cellule, réalisez une nouvelle modification, exécutez à nouveau la cellule, etc.) afin d'observer les effets de vos modifications."
   ]
  },
  {
   "cell_type": "code",
   "execution_count": null,
   "metadata": {},
   "outputs": [],
   "source": [
    "##Je crée la variable $enonce et je lui assigne une valeur\n",
    "my $enonce = \"Je mange une pomme, bien que je n'aime pas beaucoup ça. Je préfère les poires.\";\n",
    "##Je remplace Je par Il\n",
    "$enonce =~ s/je/il/;\n",
    "##J'affiche la nouvelle valeur de $enonce\n",
    "print $enonce;"
   ]
  },
  {
   "cell_type": "markdown",
   "metadata": {},
   "source": [
    "### Exercices C - Messages secrets bien encodés\n",
    "\n",
    "#### C-1 Changer les voyelles en ?\n",
    "\n",
    "Dans la cellule ci-dessous, écrivez une fonction qui remplace toutes les voyelles par un point d'interrogation.\n",
    "\n",
    "Exemple : \"une femme\" devient \"?n? f?mm?\".\n",
    "\n",
    "Appliquer cette transformation aux chaînes de caractères \"une grande hirondelle vole au-dessus de mon jardin\" et \"Il y a vingt minutes que je t'attends, t'abuses!\" et afficher le résultat.\n",
    "\n",
    "N'oubliez pas de commenter votre code."
   ]
  },
  {
   "cell_type": "code",
   "execution_count": null,
   "metadata": {},
   "outputs": [],
   "source": []
  },
  {
   "cell_type": "markdown",
   "metadata": {},
   "source": [
    "#### C-2 Changer des suites de lettres en chiffres\n",
    "\n",
    "Dans la cellule ci-dessous, écrivez une fonction qui remplace toutes les suites de caractères \"les\" par \"123\", \"ent\" par \"456\" et \" ar\" par \"789\".\n",
    "\n",
    "Exemple : \"les parents argentins\" devient \"123 par456s789gentins\".\n",
    "\n",
    "Afficher les lignes du fichier *texte.txt* ainsi encodées."
   ]
  },
  {
   "cell_type": "code",
   "execution_count": null,
   "metadata": {},
   "outputs": [],
   "source": [
    "\n"
   ]
  },
  {
   "cell_type": "markdown",
   "metadata": {},
   "source": [
    "#### C-3 Crypter pour pouvoir décrypter\n",
    "\n",
    "Dans la cellule ci-dessous, écrivez un script qui remplace toutes les occurrences de\n",
    "voyelles (accentuées ou non) du fichier *texte.txt* par la voyelle suivante (non accentuée) dans l’alphabet. \n",
    "\n",
    "En d’autres termes :\n",
    "* a, â, à deviennent e ;\n",
    "* e, é, è, ê, ë deviennent i ;\n",
    "* i, î, ï deviennent o ;\n",
    "* o, ô deviennent u ;\n",
    "* u, ù, û deviennent y ;\n",
    "* y, qui est la dernière voyelle, devient °.\n",
    "\n",
    "Affichez le résultat sous la cellule.\n",
    "\n",
    "Vous veillerez à ce que les fonctions s’appliquent aussi bien aux minuscules qu’aux majuscules.\n",
    "\n",
    "**ATTENTION !** Pour que le texte produit puisse être décrypté, il faut que vous réfléchissiez à l'ordre d'application des différentes fonctions de substitution."
   ]
  },
  {
   "cell_type": "code",
   "execution_count": null,
   "metadata": {},
   "outputs": [],
   "source": []
  },
  {
   "cell_type": "markdown",
   "metadata": {},
   "source": [
    "#### C-4 Écrire un segmenteur\n",
    "\n",
    "On appelle segmenteur un programme qui produit la copie exacte du fichier qu'on lui fournit en entrée, mais mis en forme avec un mot par ligne.\n",
    "\n",
    "Pour simplifier la tâche, on va ici considérer que deux mots sont toujours séparés par une espace. \n",
    "\n",
    "Par exemple, si le fichier d’entrée est le texte \"une grande hirondelle vole au-dessus de mon jardin.\", le résultat du segmenteur sera la suite de lignes suivantes :\n",
    "\n",
    "une<br/>\n",
    "grande<br/>\n",
    "hirondelle<br/>\n",
    "vole<br/>\n",
    "au-dessus<br/>\n",
    "de<br/>\n",
    "mon<br/>\n",
    "jardin.<br/>\n",
    "\n",
    "Écrivez dans la cellule ci-dessous un script qui ouvre le fichier *texte.txt* et le segmente de cette façon."
   ]
  },
  {
   "cell_type": "code",
   "execution_count": null,
   "metadata": {},
   "outputs": [],
   "source": [
    "\n"
   ]
  },
  {
   "cell_type": "code",
   "execution_count": null,
   "metadata": {},
   "outputs": [],
   "source": [
    "##Ceci est la cellule bac à sable\n"
   ]
  }
 ],
 "metadata": {
  "kernelspec": {
   "display_name": "IPerl 0.009",
   "language": "perl",
   "name": "iperl"
  },
  "language_info": {
   "file_extension": ".pl",
   "mimetype": "text/x-perl",
   "name": "perl",
   "version": "5.28.1"
  }
 },
 "nbformat": 4,
 "nbformat_minor": 4
}
