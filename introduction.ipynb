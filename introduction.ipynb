{
 "cells": [
  {
   "cell_type": "markdown",
   "metadata": {},
   "source": [
    "# UE 304 EC2 Traitement de Corpus : initiation à Perl\n",
    "\n",
    "Bienvenue dans le TP d'initiation à Perl.\n",
    "    \n",
    "En raison de la situation sanitaire, nous allons devoir travailler entièrement à distance. \n",
    "    \n",
    "Pour cela, nous allons utiliser des Notebooks.\n",
    "    \n",
    "## De quoi s'agit-il ?\n",
    "    \n",
    "C'est un environnement organisé en cellules.\n",
    "\n",
    "Dans chaque cellule, on peut mettre soit du texte, soit du code (ici écrit avec dans le langage **Perl**), soit du texte mis en forme selon un langage de mise en forme (qui s'appelle **Markdown**).\n",
    "\n",
    "Au cours du TP, vous devrez compléter des cellules de code à l'aide du langage **Perl** et les **exécuter**.\n",
    "\n",
    "## Qu'est-ce que ça veut dire **exécuter** ?\n",
    "\n",
    "En informatique, on appelle **exécution** le processus pendant lequel l'ordinateur effectue les **instructions** inscrites dans un programme.\n",
    "\n",
    "Par exemple, vous voyez la cellule ci-dessous ? Où il est écrit **print \"Bonjour tout le monde!\"** ?\n",
    "\n",
    "C'est une cellule de code Perl.\n",
    "\n",
    "Pour l'**exécuter**, vous pouvez cliquer dessus avec votre souris, puis appuyer simultanément sur les touches **Ctrl** et **Entrée** de votre clavier (*Ctrl + Entrée*)."
   ]
  },
  {
   "cell_type": "code",
   "execution_count": null,
   "metadata": {
    "scrolled": false
   },
   "outputs": [],
   "source": [
    "print \"Bonjour tout le monde!\";\n"
   ]
  },
  {
   "cell_type": "markdown",
   "metadata": {},
   "source": [
    "## Que s'est-il passé ?\n",
    "\n",
    "L'ordinateur a lu chacun des caractères **p**, **r**, **i**, **n**, **t**, **\"**, **B**, (..) **\"** et **;**.\n",
    "\n",
    "Comme il était dans une cellule de code, il a **interprété** cette suite de caractères comme étant du Perl.\n",
    "\n",
    "* Il y a reconnu un élément du **vocabulaire** Perl : \n",
    "    * **print**, qui donne l'instruction « Écris quelque chose ».\n",
    "\n",
    "* Il a reconnu que la **syntaxe** associée à **print** était respectée :\n",
    "    * **print** est une **fonction** à un **argument**;\n",
    "    * l'argument doit être indiqué après le nom de la fonction;\n",
    "    * la **chaîne de caractères** inscrite entre les symboles **\"** après **print** est un argument valable.\n",
    "\n",
    "* Il a reconnu le symbole **;**, qui indique que l'instruction est terminée.\n",
    "\n",
    "* Il a donc suivi l'instruction « Écris le contenu de la **chaîne de caractères** inscrite entre les symboles **\"**. » et il a écrit, sous la cellule, « Bonjour tout le monde! ».\n",
    "\n",
    "Comme toutes les instructions de la cellule avaient été exécutées, l'ordinateur a mis fin à l'exécution.\n",
    "\n",
    "Et comme nous sommes dans un notebook, un chiffre est apparu entre crochets à côté de la mention **Entrée**, en haut à gauche de la cellule. Ce chiffre indique que la cellule a été exécutée. Vous verrez par la suite qu'il est important d'exécuter, dans l'ordre, toutes les cellules d'un notebook. Si l'on ne le fait pas, il peut arriver que l'ordinateur ne parvienne pas à interpréter les cellules suivantes.\n",
    "\n",
    "Mais avant d'en arriver là, revenons sur les termes que je viens d'employer.\n",
    "\n",
    "## Un peu de vocabulaire\n",
    "\n",
    "### Langage de programmation\n",
    "\n",
    "Perl est un **langage de programmation**. En tant que tel :\n",
    "\n",
    "   * Perl a un alphabet, composé de **caractères** :\n",
    "        * lettres de a à z sans accent,\n",
    "        * lettres de A à Z sans accent,\n",
    "        * chiffres,\n",
    "        * certains symboles.\n",
    "\n",
    "   * Perl a un **vocabulaire** :\n",
    "        * certains caractères ou certaines suites de caractères ont une signification précise pour lui.\n",
    "        * c'est le cas de **print**, qui correspond à l'instruction « Écris quelque chose »\n",
    "        * et de **;**, qui clôt une instruction.\n",
    "        * Dans le vocabulaire de Perl, on trouve des fonctions (comme **print**), des opérateurs (comme **=**) et d'autres mots-clés (comme **my**) dont nous verrons l'utilité au fur et à mesure.\n",
    "\n",
    "   * Perl a une **syntaxe** :\n",
    "        * il ne suffit pas de donner le nom d'une instruction pour pouvoir l'exécuter, il faut respecter la syntaxe qui y est associée.\n",
    "        * les **fonctions** attendent ou non des **arguments**, un peu comme les verbes attendent ou non des compléments obligatoires;\n",
    "        * nous verrons que parfois, la fonction est différente selon le **type de valeur** des arguments, un peu comme **voler** dans « voler vers Lisbonne » et « voler un collier ».\n",
    "\n",
    "------------------ \n",
    "\n",
    "Vous n'allez pas retenir par cœur tout le vocabulaire du langage Perl et la syntaxe qui lui est associée :\n",
    "**Faites des fiches !!!**\n",
    "\n",
    "Entre deux séances de TP, prenez le temps de relire ce que nous avons fait et de noter à la main sur une feuille de papier, un bristol ou ce que vous voulez, les nouveaux éléments du langage Perl que vous avez rencontrés. Vous gagnerez du temps pour réaliser vos exercices et l'évaluation finale.\n",
    "\n",
    "------------------ \n",
    "\n",
    "### Interpréteur\n",
    "        \n",
    "* Perl est un langage **interprété** : pour comprendre les instructions écrites en Perl, un ordinateur doit utiliser un **interpréteur**.\n",
    "    * Ici l'interpréteur Perl est intégré au notebook.\n",
    "    * Il est possible d'installer un interpréteur sur son ordinateur.\n",
    "    * Un interpréteur Perl est **bête** et **manque d'imagination** :\n",
    "        * si vous faites une erreur dans le nom d'une instruction : il ne vous comprend pas.\n",
    "        * si vous faites une erreur dans la syntaxe d'une instruction : il ne vous comprend pas.\n",
    "        \n",
    "        \n",
    "------------------       \n",
    " \t\n",
    "*  Vous allez **souvent faire des erreurs**. Programmer c'est :\n",
    "    * Essayer\n",
    "    * Se tromper\n",
    "    * Recommencer\n",
    "    * Décomposer des instructions complexes en instructions simples\n",
    "         * Faire un pas\n",
    "         * Essayer\n",
    "         * Faire un second pas\n",
    "         * Essayer\n",
    "         * Combiner les pas\n",
    "    * Se tromper\n",
    "    * Recommencer\n",
    "    * Réussir\n",
    "    * S'amuser\n",
    "    \n",
    "**N'ayez pas peur de vous tromper !**\n",
    "\n",
    "**N'ayez pas peur de vous amuser !**\n",
    " \n",
    "------------------ \n",
    "\n",
    "## Quelques erreurs avec et sans message\n",
    "\n",
    "Regardons quelques exemples d'erreurs dans les cellules suivantes.\n",
    "\n",
    "Tout d'abord, regardons ce qui se passe si l'on oublie le **r** dans le nom de l'instruction **print**. Placez votre souris dans la cellule ci-dessous et *Ctrl+Entrée*"
   ]
  },
  {
   "cell_type": "code",
   "execution_count": null,
   "metadata": {},
   "outputs": [],
   "source": [
    "pint \"Bonjour tout le monde!\";"
   ]
  },
  {
   "cell_type": "markdown",
   "metadata": {},
   "source": [
    "L'interpréteur Perl retourne un message d'erreur, qui s'affiche sous la cellule.\n",
    "\n",
    "Ce message fournit plusieurs indices pour identifier où se trouve l'erreur :\n",
    "* il suggère que quelque chose manque avant \"Bonjour tout le monde!\" : *Missing operator before \"Bonjour tout le monde!\"?*;\n",
    "* il précise que l'erreur se trouve sur la première ligne : *syntax error at reply input line 1*.\n",
    "\n",
    "Regardons maintenant ce qui se passe si l'on oublie le **r** de **Bonjour** :\n"
   ]
  },
  {
   "cell_type": "code",
   "execution_count": null,
   "metadata": {},
   "outputs": [],
   "source": [
    "print \"Bonjou tout le monde!\";"
   ]
  },
  {
   "cell_type": "markdown",
   "metadata": {},
   "source": [
    "L'interpréteur Perl retourne la phrase écrite, sans **r** à **Bonjour** et sans message d'erreur.\n",
    "\n",
    "Nous lui avons demandé « Écris la **chaîne de caractères** inscrite entre les symboles **\"** » et c'est ce qu'il a fait, sans chercher à savoir ce que voulez dire ce qui se trouvait entre les symboles **\"**.\n",
    "\n",
    "Le résultat obtenu n'est pas celui qui était attendu, mais il n'y a pas eu d'erreur empêchant l'exécution des instructions. Pour repérer ce type d'erreur, il faut lire attentivement la sortie.\n",
    "\n",
    "Pour finir, regardons ce qui se passe si nous oublions les guillemets :"
   ]
  },
  {
   "cell_type": "code",
   "execution_count": null,
   "metadata": {},
   "outputs": [],
   "source": [
    "print Bonjour tout le monde;"
   ]
  },
  {
   "cell_type": "markdown",
   "metadata": {},
   "source": [
    "À nouveau, l'interpréteur Perl retourne un message d'erreur, qui s'affiche sous la cellule.\n",
    "\n",
    "Cette fois-ci, le message est plus court, mais il nous indique toujours que la ligne concernée est la première ligne."
   ]
  },
  {
   "cell_type": "markdown",
   "metadata": {},
   "source": [
    "## Types de valeur\n",
    "\n",
    "Nous avons dit un peu plus haut que les valeurs des arguments pouvaient être de différents **types**.\n",
    "\n",
    "Nous avons également dit que \"Bonjour tout le monde!\" est une **chaîne de caractères**.\n",
    "\n",
    "**Chaîne de caractères** est un des types de valeur possible en Perl. Il en existe d'autres, que nous allons rencontrer au fur et à mesure de ce TP où que vous rencontrerez plus tard, si vous continuez à utiliser Perl en dehors de ce cours. Pour l'instant, contentons-nous d'observer trois types distincts :\n",
    "* les chaînes de caractères,\n",
    "* les entiers,\n",
    "* les booléens.\n",
    "\n",
    "### Chaînes de caractères\n",
    "\n",
    "Une **chaîne de caractère**, c'est une suite de caractères : \n",
    "   * *a* c'est une chaîne de caractères composée d'un seul caractère\n",
    "   * *pommes* c'est une chaîne de caractères composée de 6 caractères\n",
    "   * *pommes et poires* c'est une chaîne de caractères composée de 16 caractères : hé oui, les espaces sont aussi des caractères !\n",
    "    \n",
    "Il existe de nombreuses fonctions dans le vocabulaire de Perl, qui permettent de manipuler des chaînes de caractères. Nous les découvrirons au fur et à mesure de ce cours.\n",
    "\n",
    "La plupart du temps, Perl ne cherche pas à interpréter les caractères qui se trouvent à l'intérieur d'une chaîne de caractères. Cependant, vous imaginez bien que si l'on souhaite afficher le caractère **\"** on va rencontrer quelques difficultés. Nous verrons plus tard qu'il existe une solution pour ça.\n",
    "\n",
    "Pour l'instant, nous avons vu que nous pouvons utiliser le symbole **\"** pour débuter et terminer une chaîne de caractères.\n",
    "\n",
    "Placez-vous dans la cellule suivante et exécutez le code qui s'y trouve.\n"
   ]
  },
  {
   "cell_type": "code",
   "execution_count": null,
   "metadata": {},
   "outputs": [],
   "source": [
    "print \"5+2\";"
   ]
  },
  {
   "cell_type": "markdown",
   "metadata": {},
   "source": [
    "*5+2* a été interprété comme étant une chaîne de caractères et affiché à l'écran.\n",
    "\n",
    "### Entiers\n",
    "\n",
    "Dans la cellule que l'on vient d'exécuter, Perl a affiché 5 et 2 et ne les a pas interprétés comme étant des nombres entiers. Il a fait de même avec **+**, au lieu de l'interpréter comme un **opérateur** (l'opérateur de l'addition). \n",
    "\n",
    "Cependant, Perl est capable de faire une addition.\n",
    "\n",
    "La cellule ci-dessous est vide.\n",
    "\n",
    "Placez-y votre souris et écrivez **(en Perl bien sûr)** l'instruction « Écris 5+2 », sans utiliser de guillemets."
   ]
  },
  {
   "cell_type": "code",
   "execution_count": null,
   "metadata": {},
   "outputs": [],
   "source": []
  },
  {
   "cell_type": "markdown",
   "metadata": {},
   "source": [
    "Félicitations, vous avez écrit votre première instruction Perl!\n",
    "\n",
    "Vous avez pu constater que, en l'absence de guillemets, Perl a interprété 5 et 2 comme des nombres entiers et + comme un opérateur d'addition.\n",
    "\n",
    "Il a donc affiché le résultat de l'opération que vous lui avez soumise, et non les caractères que vous avez écrits.\n",
    "\n",
    "### Booléens\n",
    "\n",
    "Voyons maintenant le troisième type, les booléens.\n",
    "\n",
    "Le type booléen n'a que deux valeurs possibles : **vrai** ou **faux**. En Perl, comme en anglais, **TRUE** ou **FALSE**. Il est extrêmement rare d'avoir à écrire ces valeurs, qui ont la particularité d'être sous-entendues en Perl comme dans la plupart des langages de programmation. Par contre, elles sont très souvent utilisées pour exprimer une condition.\n",
    "\n",
    "Regardez le code inscrit dans la cellule ci-dessous PUIS exécutez-le."
   ]
  },
  {
   "cell_type": "code",
   "execution_count": null,
   "metadata": {},
   "outputs": [],
   "source": [
    "if (5+2 == 7)\n",
    "{\n",
    "    print \"5+2=7\";\n",
    "}"
   ]
  },
  {
   "cell_type": "markdown",
   "metadata": {},
   "source": [
    "Qu'est-ce que ça veut dire tout ça ?\n",
    "\n",
    "Voici une traduction, en français, du code que vous venez d'exécuter :\n",
    "\n",
    "* SI **il est vrai que** 5+2 vaut 7\n",
    "    * ALORS affiche à l'écran la chaîne de caractères \"5+2=7\"\n",
    "    \n",
    "Comme 5+2 est bien égal à 7, la chaîne de caractère s'est affichée sous la cellule.\n",
    "\n",
    "Nous reviendrons plus tard sur les instructions conditionnelles.\n",
    "\n",
    "## Les commentaires\n",
    "\n",
    "Dans un programme écrit en Perl (qu'on appelle aussi un **script** Perl), on peut avoir envie d'écrire des commentaires. Ces phrases ou ces énoncés plus courts vont être très utiles pour :\n",
    "* nous rappeler de ce qu'on a voulu faire quand on relira nos scripts;\n",
    "* permettre à quelqu'un d'autre d'utiliser ou de modifier nos scripts;\n",
    "* permettre au professeur qui corrige de comprendre ce que nous avons voulu faire.\n",
    "\n",
    "Pour que l'interpréteur Perl ne cherche pas à interpréter les commentaires, on les fait précéder du caractère **#**.\n",
    "\n",
    "Si on place ce caractère deux fois en début de ligne, c'est toute la ligne qui sera prise pour un commentaire :"
   ]
  },
  {
   "cell_type": "code",
   "execution_count": null,
   "metadata": {},
   "outputs": [],
   "source": [
    "##Cette ligne est un commentaire, celle d'en-dessous aussi, mais pas la troisième\n",
    "##print \"Bonjour tout le monde!\";\n",
    "print \"Aurevoir tout le monde!\";"
   ]
  },
  {
   "cell_type": "markdown",
   "metadata": {},
   "source": [
    "On peut également vouloir mettre un commentaire à la fin d'une ligne de code.\n",
    "Dans ce cas, on fait simplement précéder le commentaire d'un **#**, comme dans l'exemple ci-dessus:"
   ]
  },
  {
   "cell_type": "code",
   "execution_count": null,
   "metadata": {},
   "outputs": [],
   "source": [
    "##Cette ligne est un commentaire\n",
    "print \"Bonjour tout le monde!\"; #ici je dis bonjour à tout le monde\n",
    "print \"Aurevoir tout le monde!\";"
   ]
  },
  {
   "cell_type": "markdown",
   "metadata": {},
   "source": [
    "En exécutant cette cellule, vous constatez que Perl ne fait pas automatiquement de retour à la ligne entre deux instructions **print**.\n",
    "\n",
    "Si nous voulons afficher en sortie des textes aérés, il va falloir que nous lui indiquions les espaces, sauts de ligne et tabulations que nous voulons afficher.\n",
    "\n",
    "C'est ce que nous allons apprendre à faire à l'aide de caractères spéciaux.\n",
    "\n",
    "## Quelques caractères spéciaux\n",
    "\n",
    "Avant de voir comment insérer des espaces et des sauts de ligne, voyons un caractère essentiel en Perl, que vous n'avez sans doute pas l'habitude d'utiliser et voyons où il se trouve sur votre clavier.\n",
    "\n",
    "### Antislash\n",
    "\n",
    "L'**antislash**, autrement connu sous les noms de **barre oblique inversée**, **contre-oblique** ou **backslash**, est un caractère spécial qui ressemble à ça : **\\**.\n",
    "\n",
    "Ce caractère n'est pas directement disponible sur vos claviers.\n",
    "\n",
    "Si vous êtes sur un ordinateur Windows, il est accessible à l'aide de deux combinaisons de touches : \n",
    "* *Alt Gr + 8*\n",
    "* *Ctrl + Alt + 8*\n",
    "\n",
    "Si vous êtes sur un ordinateur Mac, il est accessible à l'aide de la combinaison de touches:\n",
    "* *option + shift + :*\n",
    "\n",
    "Essayer de l'entrer dans le tchat de l'équipe Teams, pour que je voie si vous y arrivez toutes et tous.\n",
    "\n",
    "Ce caractère est très utile en Perl, parce qu'il est ce qu'on appelle un **caractère d'échappement**.\n",
    "\n",
    "Un caractère d'échappement permet soit de rendre neutre un caractère spécial, soit de fabriquer un caractère spécial.\n",
    "\n",
    "Voyons ça de plus près.\n",
    "\n",
    "### Des guillemets doubles droits dans une chaîne de caractères\n",
    "\n",
    "Nous avons vu précédemment que Perl interprète le caractère **\"** comme un délimiteur de chaîne de caractère.\n",
    "\n",
    "Mais alors, comment peut-on faire, si on veut utiliser une chaîne de caractère qui contient des **\"** ?\n",
    "\n",
    "Nous allons pouvoir le faire à l'aide du caractère antislash!\n",
    "\n",
    "Essayez d'exécuter le code qui se trouve dans la cellule suivante. "
   ]
  },
  {
   "cell_type": "code",
   "execution_count": null,
   "metadata": {},
   "outputs": [],
   "source": [
    "print \"Bonjour \"l'ami\"!\";"
   ]
  },
  {
   "cell_type": "markdown",
   "metadata": {},
   "source": [
    "Vous obtenez une erreur. Modifiez ce code en ajoutant un antislash devant les caractères **\"** qui se trouvent autour de **l'ami**.\n",
    "\n",
    "La cellule contient désormais l'instruction **print \"Bonjour \\\\\"l'ami\\\\\"!\";**.\n",
    "\n",
    "Exécutez à nouveau la cellule.\n",
    "\n",
    "Cette fois-ci, la chaîne de caractères s'est affichée.\n",
    "\n",
    "Le caractère **\"** n'a pas été interprété comme un caractère spécial, mais comme un simple caractère et la chaîne de caractères a pu être affichée à l'écran.\n",
    "\n",
    "Nous verrons par la suite d'autres situations où nous aurons besoin de rendre neutre un caractère spécial.\n",
    "\n",
    "### Sauts de lignes et tabulations\n",
    "\n",
    "Voyons maintenant quelques caractères spéciaux fabriqués à l'aide d'un antislash.\n",
    "\n",
    "Comme nous l'avons déjà vu, les espaces sont des caractères. Elles comptent comme tel dans le nombre de caractères d'une chaîne de caractères. Pour les entrer dans un script Perl, ce n'est pas très compliqué, on se contente de taper sur la barre espace.\n",
    "\n",
    "En revanche, si l'on veut entrer un saut de ligne, taper sur la touche Entrée ne va pas fonctionner.\n",
    "\n",
    "Pour cela, on va utiliser le caractère spécial **\\n**.\n",
    "\n",
    "Reprenons les deux instructions de tout à l'heure.\n",
    "\n",
    "Dans la cellule suivante, ajoutez **\\n** entre **!** et **\"** sur la première ligne, pour obtenir \n",
    "**print \"Bonjour tout le monde!\\n\";**, puis exécutez la cellule.\n"
   ]
  },
  {
   "cell_type": "code",
   "execution_count": null,
   "metadata": {},
   "outputs": [],
   "source": [
    "print \"Bonjour tout le monde!\"; \n",
    "print \"Aurevoir tout le monde!\";"
   ]
  },
  {
   "cell_type": "markdown",
   "metadata": {},
   "source": [
    "C'est tout de même plus lisible, non ?\n",
    "\n",
    "De la même façon, pour entrer une tabulation, on ne va pas utiliser la touche TAB de nos claviers.\n",
    "\n",
    "Pour entrer des tabulations et ainsi structurer nos données, nous allons utiliser le caractère spécial **\\t**.\n",
    "\n",
    "Regardez le contenu de la cellule ci-dessous et exécutez-la pour voir la façon dont s'affiche le résultat."
   ]
  },
  {
   "cell_type": "code",
   "execution_count": null,
   "metadata": {},
   "outputs": [],
   "source": [
    "print \"ponctuation\\tnom commun\\tféminin\\ntabulation\\tnom commun\\tféminin\\ncaractère\\tnom commun\\tmasculin\\n\";"
   ]
  },
  {
   "cell_type": "markdown",
   "metadata": {},
   "source": [
    "## Les variables\n",
    "\n",
    "Pour terminer cette introduction, nous allons parler d'un élément de syntaxe présent dans tous les langages de programmation et qui va nous être très utile : la **variable**.\n",
    "\n",
    "Une variable, c'est l'association d'un nom (que l'on choisit une fois pour toutes) et d'une valeur (que l'on peut modifier au cours d'un programme).\n",
    "\n",
    "En Perl, pour reconnaître les noms de variables, on les fait précéder par un symbole. \n",
    "\n",
    "Les variables dont la valeur est une chaîne de caractères ou un entier s'appellent des variables **scalaires**. Pour les reconnaître, on fait précéder leur nom du symbole **$**.\n",
    "\n",
    "Le nom d'une variable ne doit contenir **ni accent, ni espace, ni signe de ponctuation, ni aucun autre symbole**. \n",
    "\n",
    "Il doit donc être écrit uniquement à l'aide de **chiffres** et de **lettres non accentuées**.\n",
    "\n",
    "Pour créer une variable, on utilise l'instruction **my**.\n",
    "\n",
    "Pour donner une valeur à une variable, on utilise l'opérateur **=**. \n",
    "\n",
    "On dit alors qu'on **assigne** une valeur à la variable et que **=** est l'opérateur d'**assignation**.\n",
    "\n",
    "Regardez le contenu de la cellule suivante, puis exécutez-la."
   ]
  },
  {
   "cell_type": "code",
   "execution_count": null,
   "metadata": {},
   "outputs": [],
   "source": [
    "##Je crée une variable que j'appelle $cat\n",
    "my $cat;\n",
    "##J'assigne la valeur \"nom commun\" à la variable $cat\n",
    "$cat = \"nom commun\";\n",
    "##J'affiche le contenu de la variable à l'écran\n",
    "print $cat;"
   ]
  },
  {
   "cell_type": "markdown",
   "metadata": {},
   "source": [
    "## Dans un Notebook, les variables et leur valeur sont gardées en mémoire entre les cellules.\n",
    "\n",
    "C'est pour ça qu'il est important d'exécuter toutes les cellules d'une notebook et de le faire dans l'ordre.\n",
    "\n",
    "Si vous avez bien exécuté la cellule précédente, vous pouvez exécuter celle qui suit sans problème :"
   ]
  },
  {
   "cell_type": "code",
   "execution_count": null,
   "metadata": {},
   "outputs": [],
   "source": [
    "print $cat;"
   ]
  },
  {
   "cell_type": "markdown",
   "metadata": {},
   "source": [
    "Voilà, nous en avons terminé avec l'introduction.\n",
    "\n",
    "Vous pouvez enregistrer ce TP pour le conserver et vous y référer pour faire vos premières fiches.\n",
    "\n",
    "Lors du prochain TP, nous verrons quelques opérations et quelques fonctions de bases pour manipuler les chaînes de caractères."
   ]
  }
 ],
 "metadata": {
  "celltoolbar": "Format de la Cellule Texte Brut",
  "kernelspec": {
   "display_name": "IPerl 0.009",
   "language": "perl",
   "name": "iperl"
  },
  "language_info": {
   "file_extension": ".pl",
   "mimetype": "text/x-perl",
   "name": "perl",
   "version": "5.28.1"
  }
 },
 "nbformat": 4,
 "nbformat_minor": 4
}
